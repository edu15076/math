{
 "cells": [
  {
   "cell_type": "code",
   "execution_count": 1,
   "id": "initial_id",
   "metadata": {
    "collapsed": true,
    "ExecuteTime": {
     "end_time": "2023-08-14T22:20:51.823625Z",
     "start_time": "2023-08-14T22:20:51.738234900Z"
    }
   },
   "outputs": [
    {
     "name": "stdout",
     "output_type": "stream",
     "text": [
      "4476.404969606879\n"
     ]
    }
   ],
   "source": [
    "from vector import Field, VectorSpace\n",
    "import numpy as np"
   ]
  },
  {
   "cell_type": "code",
   "execution_count": 2,
   "outputs": [],
   "source": [
    "real = Field(float | int, 0, 1)\n",
    "r2 = VectorSpace(real, 2)\n",
    "r3 = VectorSpace(real, 3)"
   ],
   "metadata": {
    "collapsed": false,
    "ExecuteTime": {
     "end_time": "2023-08-14T22:20:51.828775200Z",
     "start_time": "2023-08-14T22:20:51.822112200Z"
    }
   },
   "id": "392b037f845e4def"
  },
  {
   "cell_type": "code",
   "execution_count": 15,
   "outputs": [
    {
     "name": "stdout",
     "output_type": "stream",
     "text": [
      "5.0 3.0 4.0\n"
     ]
    }
   ],
   "source": [
    "sqrt3 = np.power(3, 1 / 2)\n",
    "\n",
    "x = r2.create_vector(2, 1)\n",
    "y = r2.create_vector(-3 / 2, 3 * sqrt3 / 2)  # y = r2.create_vector_angles(3, np.pi / 6)\n",
    "z = r2.create_vector(2 * sqrt3, 2)  # z = r2.create_vector_angles(3, np.pi / 3)\n",
    "\n",
    "c1 = y + x\n",
    "c2 = z + x\n",
    "\n",
    "h = r2.create_vector(*c1, w=c2)\n",
    "print(h.norm(), y.norm(), z.norm())"
   ],
   "metadata": {
    "collapsed": false,
    "ExecuteTime": {
     "end_time": "2023-08-14T22:25:42.991465400Z",
     "start_time": "2023-08-14T22:25:42.984120300Z"
    }
   },
   "id": "c8de9fc35bb36968"
  },
  {
   "cell_type": "code",
   "execution_count": 16,
   "outputs": [
    {
     "data": {
      "text/plain": "4476.404969606879"
     },
     "execution_count": 16,
     "metadata": {},
     "output_type": "execute_result"
    }
   ],
   "source": [
    "ang1 = np.deg2rad(127)\n",
    "ang2 = np.deg2rad(48)\n",
    "\n",
    "dc = r2.create_vector(60, 0)\n",
    "ad = -r2.create_vector_angles(50, ang1)\n",
    "cb = r2.create_vector_angles(70, ang2)\n",
    "ab = ad + dc + cb\n",
    "\n",
    "ed = ad.proj()\n",
    "ea = -(ad - ed)\n",
    "\n",
    "cf = cb.proj()\n",
    "fb = cb - cf\n",
    "\n",
    "gb = ab.proj()\n",
    "ag = ab - gb\n",
    "\n",
    "bfeg = (fb.redimension(r3) ^ (ed + dc + cf).redimension(r3)).norm()\n",
    "\n",
    "ade = (ed.redimension(r3) ^ ea.redimension(r3)).norm() / 2\n",
    "bcf = (cf.redimension(r3) ^ fb.redimension(r3)).norm() / 2\n",
    "abg = (gb.redimension(r3) ^ ag.redimension(r3)).norm() / 2\n",
    "bfeg - ade - bcf - abg"
   ],
   "metadata": {
    "collapsed": false,
    "ExecuteTime": {
     "end_time": "2023-08-14T22:27:58.547067700Z",
     "start_time": "2023-08-14T22:27:58.541618500Z"
    }
   },
   "id": "b24c26f473af48ed"
  }
 ],
 "metadata": {
  "kernelspec": {
   "display_name": "Python 3",
   "language": "python",
   "name": "python3"
  },
  "language_info": {
   "codemirror_mode": {
    "name": "ipython",
    "version": 2
   },
   "file_extension": ".py",
   "mimetype": "text/x-python",
   "name": "python",
   "nbconvert_exporter": "python",
   "pygments_lexer": "ipython2",
   "version": "2.7.6"
  }
 },
 "nbformat": 4,
 "nbformat_minor": 5
}
